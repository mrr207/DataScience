{
  "nbformat": 4,
  "nbformat_minor": 0,
  "metadata": {
    "colab": {
      "provenance": [],
      "authorship_tag": "ABX9TyOVI4sewJTPhEVDwlLsQJyn",
      "include_colab_link": true
    },
    "kernelspec": {
      "name": "python3",
      "display_name": "Python 3"
    },
    "language_info": {
      "name": "python"
    }
  },
  "cells": [
    {
      "cell_type": "markdown",
      "metadata": {
        "id": "view-in-github",
        "colab_type": "text"
      },
      "source": [
        "<a href=\"https://colab.research.google.com/github/mrr207/DataScience/blob/main/DataScienceGoogle.ipynb\" target=\"_parent\"><img src=\"https://colab.research.google.com/assets/colab-badge.svg\" alt=\"Open In Colab\"/></a>"
      ]
    },
    {
      "cell_type": "code",
      "execution_count": null,
      "metadata": {
        "id": "9I2II1wbYJMi"
      },
      "outputs": [],
      "source": [
        "# Final Project - DataScienceGoogle\n",
        "\n",
        "\n",
        "In this notebook, I will summarize some key tools, languages, and libraries used in the field of data science.\n",
        "\n",
        "## Popular Data Science Languages\n",
        "- Python\n",
        "- R\n",
        "- SQL\n",
        "- Julia\n",
        "- Scala\n",
        "\n",
        "## Commonly Used Data Science Libraries\n",
        "- Pandas\n",
        "- NumPy\n",
        "- Scikit-learn\n",
        "- TensorFlow\n",
        "- ggplot2\n",
        "\n",
        "\n",
        "## Data Science Tools\n",
        "\n",
        "| Tool         | Description                        |\n",
        "|--------------|------------------------------------|\n",
        "| Jupyter      | Web-based interactive notebook     |\n",
        "| RStudio      | IDE for R                          |\n",
        "| VSCode       | Lightweight code editor            |\n",
        "| Apache Spark | Big data processing framework      |\n",
        "\n",
        "\n",
        "\n",
        "\n",
        "## Examples of Arithmetic Expressions\n",
        "Below are some basic arithmetic operations:\n",
        "- Addition: `3 + 2`\n",
        "- Subtraction: `5 - 1`\n",
        "- Multiplication: `4 * 6`\n",
        "- Division: `8 / 2`\n",
        "\n",
        "\n"
      ]
    },
    {
      "cell_type": "code",
      "source": [
        "# Multiply and add two numbers\n",
        "(3 * 4) + 5\n"
      ],
      "metadata": {
        "colab": {
          "base_uri": "https://localhost:8080/"
        },
        "id": "okqnxuV6gUuI",
        "outputId": "35098898-e0fa-47cd-fcde-142bced60732"
      },
      "execution_count": 1,
      "outputs": [
        {
          "output_type": "execute_result",
          "data": {
            "text/plain": [
              "17"
            ]
          },
          "metadata": {},
          "execution_count": 1
        }
      ]
    },
    {
      "cell_type": "code",
      "source": [
        "# Convert 120 minutes to hours\n",
        "minutes = 120\n",
        "hours = minutes / 60\n",
        "hours\n"
      ],
      "metadata": {
        "colab": {
          "base_uri": "https://localhost:8080/"
        },
        "id": "O3wKdwhagoyr",
        "outputId": "1fcdbdcd-8dd9-4612-ebeb-bda522d11ae1"
      },
      "execution_count": 2,
      "outputs": [
        {
          "output_type": "execute_result",
          "data": {
            "text/plain": [
              "2.0"
            ]
          },
          "metadata": {},
          "execution_count": 2
        }
      ]
    },
    {
      "cell_type": "code",
      "source": [
        "# List objectives of this notebook\n",
        "objectives = [\n",
        "    \"List popular languages in data science\",\n",
        "    \"Identify commonly used libraries\",\n",
        "    \"Introduce data science tools\",\n",
        "    \"Perform arithmetic operations\",\n",
        "    \"Share notebook publicly\"\n",
        "]\n",
        "objectives\n"
      ],
      "metadata": {
        "colab": {
          "base_uri": "https://localhost:8080/"
        },
        "id": "nfSWb768g3zd",
        "outputId": "246d9194-b538-43cb-a34e-bf0ba6c1fc87"
      },
      "execution_count": 3,
      "outputs": [
        {
          "output_type": "execute_result",
          "data": {
            "text/plain": [
              "['List popular languages in data science',\n",
              " 'Identify commonly used libraries',\n",
              " 'Introduce data science tools',\n",
              " 'Perform arithmetic operations',\n",
              " 'Share notebook publicly']"
            ]
          },
          "metadata": {},
          "execution_count": 3
        }
      ]
    },
    {
      "cell_type": "markdown",
      "source": [
        "**Author:** Mónica P. Rispal Rodríguez\n"
      ],
      "metadata": {
        "id": "uMhXQZ37hGRE"
      }
    }
  ]
}